{
 "cells": [
  {
   "cell_type": "code",
   "execution_count": 1,
   "metadata": {},
   "outputs": [
    {
     "name": "stdout",
     "output_type": "stream",
     "text": [
      "2023-06-12\n"
     ]
    }
   ],
   "source": [
    "from datetime import date\n",
    "output=date.today()\n",
    "print(output)\n"
   ]
  },
  {
   "cell_type": "code",
   "execution_count": 3,
   "metadata": {},
   "outputs": [
    {
     "name": "stdout",
     "output_type": "stream",
     "text": [
      "262 days, 13:17:39.246400\n",
      "Number of days between 2022-09-23 and today: 262\n"
     ]
    }
   ],
   "source": [
    "from datetime import datetime\n",
    "\n",
    "given_date = input(\"Enter a date (YYYY-MM-DD): \")\n",
    "\n",
    "given_datetime = datetime.strptime(given_date, \"%Y-%m-%d\")\n",
    "\n",
    "current_datetime = datetime.now()\n",
    "\n",
    "difference = current_datetime - given_datetime\n",
    "print(difference)\n",
    "\n",
    "days = difference.days\n",
    "\n",
    "print(\"Number of days between\", given_date, \"and today:\", days)\n"
   ]
  },
  {
   "cell_type": "code",
   "execution_count": null,
   "metadata": {},
   "outputs": [],
   "source": []
  }
 ],
 "metadata": {
  "kernelspec": {
   "display_name": "Python 3",
   "language": "python",
   "name": "python3"
  },
  "language_info": {
   "codemirror_mode": {
    "name": "ipython",
    "version": 3
   },
   "file_extension": ".py",
   "mimetype": "text/x-python",
   "name": "python",
   "nbconvert_exporter": "python",
   "pygments_lexer": "ipython3",
   "version": "3.10.9"
  },
  "orig_nbformat": 4
 },
 "nbformat": 4,
 "nbformat_minor": 2
}
